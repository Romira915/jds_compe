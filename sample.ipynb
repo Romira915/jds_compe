{
 "cells": [
  {
   "cell_type": "code",
   "execution_count": 1,
   "id": "2a71fa98",
   "metadata": {},
   "outputs": [],
   "source": [
    "import numpy as np\n",
    "import pandas as pd\n",
    "import glob\n",
    "from sklearn.linear_model import LinearRegression\n",
    "from sklearn.metrics import classification_report, make_scorer, accuracy_score\n",
    "from sklearn.feature_extraction.text import TfidfVectorizer, CountVectorizer\n",
    "from sklearn.model_selection import KFold\n",
    "import ngram\n",
    "import random\n",
    "import os"
   ]
  },
  {
   "cell_type": "code",
   "execution_count": 2,
   "id": "78dd4364",
   "metadata": {},
   "outputs": [],
   "source": [
    "def tokenize(word):\n",
    "    word_list = []\n",
    "    for n in range(2, 4):\n",
    "        index = ngram.NGram(N=n)\n",
    "        for w in index.ngrams(index.pad(word)):\n",
    "            if w.find(\"$\") != -1:\n",
    "                continue\n",
    "            word_list.append(w)\n",
    "    return word_list"
   ]
  },
  {
   "cell_type": "code",
   "execution_count": 3,
   "id": "ffd55602",
   "metadata": {
    "scrolled": true
   },
   "outputs": [],
   "source": [
    "train_df = pd.read_csv(\"./train.csv\")\n",
    "test_df = pd.read_csv(\"./test.csv\")\n",
    "compe_df = pd.read_csv(\"./compe.csv\")"
   ]
  },
  {
   "cell_type": "code",
   "execution_count": 4,
   "id": "456c48e1",
   "metadata": {},
   "outputs": [
    {
     "data": {
      "text/html": [
       "<div>\n",
       "<style scoped>\n",
       "    .dataframe tbody tr th:only-of-type {\n",
       "        vertical-align: middle;\n",
       "    }\n",
       "\n",
       "    .dataframe tbody tr th {\n",
       "        vertical-align: top;\n",
       "    }\n",
       "\n",
       "    .dataframe thead th {\n",
       "        text-align: right;\n",
       "    }\n",
       "</style>\n",
       "<table border=\"1\" class=\"dataframe\">\n",
       "  <thead>\n",
       "    <tr style=\"text-align: right;\">\n",
       "      <th></th>\n",
       "      <th>text</th>\n",
       "    </tr>\n",
       "  </thead>\n",
       "  <tbody>\n",
       "    <tr>\n",
       "      <th>0</th>\n",
       "      <td>電車がまだ動かなくて自宅待機中\\n家庭科の先生ほんと嫌いやから、4時間目まで動かないで欲しい...</td>\n",
       "    </tr>\n",
       "    <tr>\n",
       "      <th>1</th>\n",
       "      <td>TSUTAYAに行って、作品選んで、でもいざレジに行こうとすると動悸がして、結局トイレットペ...</td>\n",
       "    </tr>\n",
       "    <tr>\n",
       "      <th>2</th>\n",
       "      <td>ほっといてよもうほんとにまじで何妥協とか遠慮とか知らないの？？？？？お前ほんと人間？？？今ま...</td>\n",
       "    </tr>\n",
       "    <tr>\n",
       "      <th>3</th>\n",
       "      <td>朝早く起きすぎた</td>\n",
       "    </tr>\n",
       "    <tr>\n",
       "      <th>4</th>\n",
       "      <td>どんな授業を受けても、どんな講演を受けても、何も感じられない。そんな私にとって、コメントペー...</td>\n",
       "    </tr>\n",
       "    <tr>\n",
       "      <th>...</th>\n",
       "      <td>...</td>\n",
       "    </tr>\n",
       "    <tr>\n",
       "      <th>9995</th>\n",
       "      <td>@wyvern4034 お疲れ様です😆</td>\n",
       "    </tr>\n",
       "    <tr>\n",
       "      <th>9996</th>\n",
       "      <td>そんな君が私の玩具</td>\n",
       "    </tr>\n",
       "    <tr>\n",
       "      <th>9997</th>\n",
       "      <td>川崎市の40~59歳は、まだ、予約サイトから予約できないよ。</td>\n",
       "    </tr>\n",
       "    <tr>\n",
       "      <th>9998</th>\n",
       "      <td>@ayaka_1999_5 犬嶋だよ！！に見えた((</td>\n",
       "    </tr>\n",
       "    <tr>\n",
       "      <th>9999</th>\n",
       "      <td>くやしい…😭 https://t.co/3KSXIzwSuV</td>\n",
       "    </tr>\n",
       "  </tbody>\n",
       "</table>\n",
       "<p>10000 rows × 1 columns</p>\n",
       "</div>"
      ],
      "text/plain": [
       "                                                   text\n",
       "0     電車がまだ動かなくて自宅待機中\\n家庭科の先生ほんと嫌いやから、4時間目まで動かないで欲しい...\n",
       "1     TSUTAYAに行って、作品選んで、でもいざレジに行こうとすると動悸がして、結局トイレットペ...\n",
       "2     ほっといてよもうほんとにまじで何妥協とか遠慮とか知らないの？？？？？お前ほんと人間？？？今ま...\n",
       "3                                              朝早く起きすぎた\n",
       "4     どんな授業を受けても、どんな講演を受けても、何も感じられない。そんな私にとって、コメントペー...\n",
       "...                                                 ...\n",
       "9995                                @wyvern4034 お疲れ様です😆\n",
       "9996                                          そんな君が私の玩具\n",
       "9997                     川崎市の40~59歳は、まだ、予約サイトから予約できないよ。\n",
       "9998                         @ayaka_1999_5 犬嶋だよ！！に見えた((\n",
       "9999                     くやしい…😭 https://t.co/3KSXIzwSuV\n",
       "\n",
       "[10000 rows x 1 columns]"
      ]
     },
     "execution_count": 4,
     "metadata": {},
     "output_type": "execute_result"
    }
   ],
   "source": [
    "compe_df"
   ]
  },
  {
   "cell_type": "code",
   "execution_count": 5,
   "id": "6d94f591",
   "metadata": {},
   "outputs": [],
   "source": [
    "train_text = train_df[\"text\"].values.astype('U')\n",
    "test_text = test_df[\"text\"].values.astype('U')\n",
    "y = train_df[\"label\"].values.astype(\"int8\")\n",
    "test_y = test_df[\"label\"].values.astype(\"int8\")\n",
    "compe_text = compe_df[\"text\"].values.astype('U')"
   ]
  },
  {
   "cell_type": "code",
   "execution_count": 6,
   "id": "d74f858a",
   "metadata": {},
   "outputs": [],
   "source": [
    "vectorizer = CountVectorizer(analyzer=tokenize)\n",
    "vectorizer.fit(train_text)\n",
    "X = vectorizer.transform(train_text)\n",
    "test_vec = vectorizer.transform(test_text)\n",
    "compe_vec = vectorizer.transform(compe_text)"
   ]
  },
  {
   "cell_type": "code",
   "execution_count": 7,
   "id": "fac45a18",
   "metadata": {
    "scrolled": false
   },
   "outputs": [
    {
     "data": {
      "text/plain": [
       "0.7383"
      ]
     },
     "execution_count": 7,
     "metadata": {},
     "output_type": "execute_result"
    }
   ],
   "source": [
    "valid_scores = []\n",
    "\n",
    "train_check = np.zeros(len(y), dtype=np.float64)\n",
    "models = []\n",
    "\n",
    "kf = KFold(n_splits=3)\n",
    "for fold, (tr_idx, va_idx) in enumerate(kf.split(X, y)):\n",
    "    x_train, y_train = X[tr_idx], y[tr_idx]\n",
    "    x_valid, y_valid = X[va_idx], y[va_idx]\n",
    "    m = LinearRegression()\n",
    "    m.fit(x_train, y_train)\n",
    "    p = m.predict(x_valid)\n",
    "    train_check[va_idx] += p\n",
    "    models.append(m)\n",
    "\n",
    "accuracy_score(y, np.where(train_check<0.5, 0, 1))"
   ]
  },
  {
   "cell_type": "code",
   "execution_count": 8,
   "id": "0a4885c9",
   "metadata": {},
   "outputs": [],
   "source": [
    "result = np.zeros(len(test_y), dtype=np.float64)\n",
    "result = np.array([model.predict(test_vec) for model in models]).mean(axis=0)\n",
    "result = np.where(result<0.5, 0, 1)"
   ]
  },
  {
   "cell_type": "code",
   "execution_count": 9,
   "id": "fa4a2037",
   "metadata": {},
   "outputs": [
    {
     "data": {
      "text/plain": [
       "0.769"
      ]
     },
     "execution_count": 9,
     "metadata": {},
     "output_type": "execute_result"
    }
   ],
   "source": [
    "accuracy_score(test_y, result) #リーダーボードのスコア この値を毎回，discord上に載せてください．"
   ]
  },
  {
   "cell_type": "code",
   "execution_count": 10,
   "id": "e72d551f",
   "metadata": {},
   "outputs": [
    {
     "data": {
      "text/plain": [
       "1000"
      ]
     },
     "execution_count": 10,
     "metadata": {},
     "output_type": "execute_result"
    }
   ],
   "source": [
    "len(result)"
   ]
  },
  {
   "cell_type": "code",
   "execution_count": 11,
   "id": "bcf68962",
   "metadata": {},
   "outputs": [
    {
     "data": {
      "text/plain": [
       "10000"
      ]
     },
     "execution_count": 11,
     "metadata": {},
     "output_type": "execute_result"
    }
   ],
   "source": [
    "c_result = np.zeros(len(compe_text), dtype=np.float64)\n",
    "c_result = np.array([model.predict(compe_vec) for model in models]).mean(axis=0)\n",
    "c_result = np.where(c_result<0.5, 0, 1)\n",
    "len(c_result)"
   ]
  },
  {
   "cell_type": "code",
   "execution_count": 12,
   "id": "46f6cf29",
   "metadata": {},
   "outputs": [],
   "source": [
    "csv_data = pd.DataFrame(data=c_result, columns=[\"label\"])\n",
    "csv_data.reset_index(inplace=True)\n",
    "csv_data = csv_data.rename(columns={'index': 'ID'})\n",
    "csv_data.to_csv(\"./submission.csv\", index=False) #submission.csvを最大2つまで馬場宛に提出してください．良い方の結果を最終スコアとします．"
   ]
  },
  {
   "cell_type": "code",
   "execution_count": null,
   "id": "f58034a5",
   "metadata": {},
   "outputs": [],
   "source": []
  }
 ],
 "metadata": {
  "kernelspec": {
   "display_name": "Python 3 (ipykernel)",
   "language": "python",
   "name": "python3"
  },
  "language_info": {
   "codemirror_mode": {
    "name": "ipython",
    "version": 3
   },
   "file_extension": ".py",
   "mimetype": "text/x-python",
   "name": "python",
   "nbconvert_exporter": "python",
   "pygments_lexer": "ipython3",
   "version": "3.10.4"
  }
 },
 "nbformat": 4,
 "nbformat_minor": 5
}

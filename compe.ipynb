{
  "cells": [
    {
      "cell_type": "markdown",
      "metadata": {
        "id": "view-in-github",
        "colab_type": "text"
      },
      "source": [
        "<a href=\"https://colab.research.google.com/github/Romira915/jds_compe/blob/main/compe.ipynb\" target=\"_parent\"><img src=\"https://colab.research.google.com/assets/colab-badge.svg\" alt=\"Open In Colab\"/></a>"
      ]
    },
    {
      "cell_type": "code",
      "execution_count": null,
      "metadata": {
        "colab": {
          "base_uri": "https://localhost:8080/"
        },
        "id": "IM5uLIQxeh7q",
        "outputId": "7b36e60e-457b-4aaf-c427-0390e318ce4c"
      },
      "outputs": [
        {
          "name": "stdout",
          "output_type": "stream",
          "text": [
            "Looking in indexes: https://pypi.org/simple, https://us-python.pkg.dev/colab-wheels/public/simple/\n",
            "Requirement already satisfied: mecab-python3 in /usr/local/lib/python3.7/dist-packages (1.0.5)\n",
            "Requirement already satisfied: transformers in /usr/local/lib/python3.7/dist-packages (4.20.1)\n",
            "Requirement already satisfied: fugashi in /usr/local/lib/python3.7/dist-packages (1.1.2)\n",
            "Requirement already satisfied: ipadic in /usr/local/lib/python3.7/dist-packages (1.0.0)\n",
            "Requirement already satisfied: torch_optimizer in /usr/local/lib/python3.7/dist-packages (0.3.0)\n",
            "Requirement already satisfied: nltk in /usr/local/lib/python3.7/dist-packages (3.7)\n",
            "Requirement already satisfied: filelock in /usr/local/lib/python3.7/dist-packages (from transformers) (3.7.1)\n",
            "Requirement already satisfied: numpy>=1.17 in /usr/local/lib/python3.7/dist-packages (from transformers) (1.21.6)\n",
            "Requirement already satisfied: tokenizers!=0.11.3,<0.13,>=0.11.1 in /usr/local/lib/python3.7/dist-packages (from transformers) (0.12.1)\n",
            "Requirement already satisfied: importlib-metadata in /usr/local/lib/python3.7/dist-packages (from transformers) (4.12.0)\n",
            "Requirement already satisfied: packaging>=20.0 in /usr/local/lib/python3.7/dist-packages (from transformers) (21.3)\n",
            "Requirement already satisfied: regex!=2019.12.17 in /usr/local/lib/python3.7/dist-packages (from transformers) (2022.6.2)\n",
            "Requirement already satisfied: pyyaml>=5.1 in /usr/local/lib/python3.7/dist-packages (from transformers) (6.0)\n",
            "Requirement already satisfied: tqdm>=4.27 in /usr/local/lib/python3.7/dist-packages (from transformers) (4.64.0)\n",
            "Requirement already satisfied: huggingface-hub<1.0,>=0.1.0 in /usr/local/lib/python3.7/dist-packages (from transformers) (0.8.1)\n",
            "Requirement already satisfied: requests in /usr/local/lib/python3.7/dist-packages (from transformers) (2.23.0)\n",
            "Requirement already satisfied: typing-extensions>=3.7.4.3 in /usr/local/lib/python3.7/dist-packages (from huggingface-hub<1.0,>=0.1.0->transformers) (4.1.1)\n",
            "Requirement already satisfied: pyparsing!=3.0.5,>=2.0.2 in /usr/local/lib/python3.7/dist-packages (from packaging>=20.0->transformers) (3.0.9)\n",
            "Requirement already satisfied: pytorch-ranger>=0.1.1 in /usr/local/lib/python3.7/dist-packages (from torch_optimizer) (0.1.1)\n",
            "Requirement already satisfied: torch>=1.5.0 in /usr/local/lib/python3.7/dist-packages (from torch_optimizer) (1.12.0+cu113)\n",
            "Requirement already satisfied: click in /usr/local/lib/python3.7/dist-packages (from nltk) (7.1.2)\n",
            "Requirement already satisfied: joblib in /usr/local/lib/python3.7/dist-packages (from nltk) (1.1.0)\n",
            "Requirement already satisfied: zipp>=0.5 in /usr/local/lib/python3.7/dist-packages (from importlib-metadata->transformers) (3.8.1)\n",
            "Requirement already satisfied: certifi>=2017.4.17 in /usr/local/lib/python3.7/dist-packages (from requests->transformers) (2022.6.15)\n",
            "Requirement already satisfied: idna<3,>=2.5 in /usr/local/lib/python3.7/dist-packages (from requests->transformers) (2.10)\n",
            "Requirement already satisfied: urllib3!=1.25.0,!=1.25.1,<1.26,>=1.21.1 in /usr/local/lib/python3.7/dist-packages (from requests->transformers) (1.24.3)\n",
            "Requirement already satisfied: chardet<4,>=3.0.2 in /usr/local/lib/python3.7/dist-packages (from requests->transformers) (3.0.4)\n"
          ]
        }
      ],
      "source": [
        "  !pip install mecab-python3 transformers fugashi ipadic torch_optimizer nltk"
      ]
    },
    {
      "cell_type": "code",
      "execution_count": null,
      "metadata": {
        "id": "MlRdjjoxgfeq"
      },
      "outputs": [],
      "source": [
        "import copy\n",
        "import time\n",
        "import random\n",
        "import re\n",
        "import unicodedata\n",
        "\n",
        "import nltk\n",
        "from nltk.corpus import wordnet\n",
        "import MeCab\n",
        "import numpy as np\n",
        "import pandas as pd\n",
        "import torch\n",
        "import transformers\n",
        "from matplotlib import pyplot as plt\n",
        "from sklearn.model_selection import train_test_split, KFold\n",
        "from sklearn.metrics import accuracy_score\n",
        "from torch import Tensor, cuda, optim\n",
        "from torch.nn import functional as F\n",
        "import torch_optimizer\n",
        "from torch.utils.data import DataLoader, Dataset\n",
        "from torch.cuda.amp import autocast, GradScaler\n",
        "import math\n",
        "from torch.autograd.function import InplaceFunction\n",
        "from torch.nn import Parameter\n",
        "import torch.nn.init as init\n",
        "from transformers import (AutoModel, AutoTokenizer, BertJapaneseTokenizer,\n",
        "                          BertModel, BartForSequenceClassification, BertConfig, DistilBertConfig, DistilBertTokenizer, DistilBertModel, AlbertConfig, AlbertModel, AlbertForMaskedLM, AlbertTokenizerFast)"
      ]
    },
    {
      "cell_type": "code",
      "execution_count": null,
      "metadata": {
        "colab": {
          "base_uri": "https://localhost:8080/"
        },
        "id": "8o2aXxcHdkCE",
        "outputId": "108047a1-3959-4bec-8454-d3c9f96c615a"
      },
      "outputs": [
        {
          "name": "stderr",
          "output_type": "stream",
          "text": [
            "[nltk_data] Downloading collection 'popular'\n",
            "[nltk_data]    | \n",
            "[nltk_data]    | Downloading package cmudict to /root/nltk_data...\n",
            "[nltk_data]    |   Package cmudict is already up-to-date!\n",
            "[nltk_data]    | Downloading package gazetteers to /root/nltk_data...\n",
            "[nltk_data]    |   Package gazetteers is already up-to-date!\n",
            "[nltk_data]    | Downloading package genesis to /root/nltk_data...\n",
            "[nltk_data]    |   Package genesis is already up-to-date!\n",
            "[nltk_data]    | Downloading package gutenberg to /root/nltk_data...\n",
            "[nltk_data]    |   Package gutenberg is already up-to-date!\n",
            "[nltk_data]    | Downloading package inaugural to /root/nltk_data...\n",
            "[nltk_data]    |   Package inaugural is already up-to-date!\n",
            "[nltk_data]    | Downloading package movie_reviews to\n",
            "[nltk_data]    |     /root/nltk_data...\n",
            "[nltk_data]    |   Package movie_reviews is already up-to-date!\n",
            "[nltk_data]    | Downloading package names to /root/nltk_data...\n",
            "[nltk_data]    |   Package names is already up-to-date!\n",
            "[nltk_data]    | Downloading package shakespeare to /root/nltk_data...\n",
            "[nltk_data]    |   Package shakespeare is already up-to-date!\n",
            "[nltk_data]    | Downloading package stopwords to /root/nltk_data...\n",
            "[nltk_data]    |   Package stopwords is already up-to-date!\n",
            "[nltk_data]    | Downloading package treebank to /root/nltk_data...\n",
            "[nltk_data]    |   Package treebank is already up-to-date!\n",
            "[nltk_data]    | Downloading package twitter_samples to\n",
            "[nltk_data]    |     /root/nltk_data...\n",
            "[nltk_data]    |   Package twitter_samples is already up-to-date!\n",
            "[nltk_data]    | Downloading package omw to /root/nltk_data...\n",
            "[nltk_data]    |   Package omw is already up-to-date!\n",
            "[nltk_data]    | Downloading package omw-1.4 to /root/nltk_data...\n",
            "[nltk_data]    |   Package omw-1.4 is already up-to-date!\n",
            "[nltk_data]    | Downloading package wordnet to /root/nltk_data...\n",
            "[nltk_data]    |   Package wordnet is already up-to-date!\n",
            "[nltk_data]    | Downloading package wordnet2021 to /root/nltk_data...\n",
            "[nltk_data]    |   Package wordnet2021 is already up-to-date!\n",
            "[nltk_data]    | Downloading package wordnet31 to /root/nltk_data...\n",
            "[nltk_data]    |   Package wordnet31 is already up-to-date!\n",
            "[nltk_data]    | Downloading package wordnet_ic to /root/nltk_data...\n",
            "[nltk_data]    |   Package wordnet_ic is already up-to-date!\n",
            "[nltk_data]    | Downloading package words to /root/nltk_data...\n",
            "[nltk_data]    |   Package words is already up-to-date!\n",
            "[nltk_data]    | Downloading package maxent_ne_chunker to\n",
            "[nltk_data]    |     /root/nltk_data...\n",
            "[nltk_data]    |   Package maxent_ne_chunker is already up-to-date!\n",
            "[nltk_data]    | Downloading package punkt to /root/nltk_data...\n",
            "[nltk_data]    |   Package punkt is already up-to-date!\n",
            "[nltk_data]    | Downloading package snowball_data to\n",
            "[nltk_data]    |     /root/nltk_data...\n",
            "[nltk_data]    |   Package snowball_data is already up-to-date!\n",
            "[nltk_data]    | Downloading package averaged_perceptron_tagger to\n",
            "[nltk_data]    |     /root/nltk_data...\n",
            "[nltk_data]    |   Package averaged_perceptron_tagger is already up-\n",
            "[nltk_data]    |       to-date!\n",
            "[nltk_data]    | \n",
            "[nltk_data]  Done downloading collection popular\n"
          ]
        },
        {
          "data": {
            "text/plain": [
              "True"
            ]
          },
          "execution_count": 61,
          "metadata": {},
          "output_type": "execute_result"
        }
      ],
      "source": [
        "nltk.download(\"popular\")"
      ]
    },
    {
      "cell_type": "code",
      "execution_count": null,
      "metadata": {
        "colab": {
          "base_uri": "https://localhost:8080/"
        },
        "id": "_q3cDMvEfO1S",
        "outputId": "ab648dfe-ad2c-48df-8145-0196692e2d9c"
      },
      "outputs": [
        {
          "name": "stdout",
          "output_type": "stream",
          "text": [
            "Drive already mounted at /content/drive; to attempt to forcibly remount, call drive.mount(\"/content/drive\", force_remount=True).\n"
          ]
        }
      ],
      "source": [
        "train_path = \"train.csv\"\n",
        "test_path = \"test.csv\"\n",
        "compe_path = \"compe.csv\"\n",
        "submission_path = \"submission.csv\"\n",
        "custom_train_path = \"training.1600000.processed.noemoticon-ja-fixed.csv\"\n",
        "\n",
        "try:\n",
        "  from google.colab import drive\n",
        "  drive.mount('/content/drive')\n",
        "\n",
        "  compe_dir = \"/content/drive/My Drive/Documents/compe/\"\n",
        "\n",
        "  train_path = compe_dir + train_path\n",
        "  test_path = compe_dir + test_path\n",
        "  compe_path = compe_dir + compe_path\n",
        "  submission_path = compe_dir + submission_path\n",
        "  custom_train_path = compe_dir + custom_train_path\n",
        "\n",
        "except ImportError:\n",
        "  pass"
      ]
    },
    {
      "cell_type": "code",
      "execution_count": null,
      "metadata": {
        "id": "-30wKlqKd1dU"
      },
      "outputs": [],
      "source": [
        "SEED = 223819057"
      ]
    },
    {
      "cell_type": "code",
      "execution_count": null,
      "metadata": {
        "colab": {
          "base_uri": "https://localhost:8080/"
        },
        "id": "SlVNSjnX1jHt",
        "outputId": "5e90e646-3f96-4e50-e906-d0c72ca92d13"
      },
      "outputs": [
        {
          "name": "stdout",
          "output_type": "stream",
          "text": [
            "0    24091\n",
            "1    11301\n",
            "Name: label, dtype: int64\n"
          ]
        }
      ],
      "source": [
        "custom_train_df = pd.read_csv(custom_train_path)\n",
        "custom_train_df = custom_train_df[[\"text\", \"target\"]].rename(columns={\"target\": \"label\"})\n",
        "custom_train_df.loc[custom_train_df[\"label\"] == 0, \"label\"] = 1\n",
        "custom_train_df.loc[custom_train_df[\"label\"] == 4, \"label\"] = 0\n",
        "print(custom_train_df[\"label\"].value_counts())"
      ]
    },
    {
      "cell_type": "code",
      "execution_count": null,
      "metadata": {
        "colab": {
          "base_uri": "https://localhost:8080/"
        },
        "id": "6Q5yj5SMean6",
        "outputId": "af8c7038-811a-4fd4-af3c-c6db5448042f"
      },
      "outputs": [
        {
          "name": "stdout",
          "output_type": "stream",
          "text": [
            "11301\n",
            "22602\n"
          ]
        }
      ],
      "source": [
        "custom_train_df_0 = custom_train_df.query(\"label == 0\")\n",
        "custom_train_df_1 = custom_train_df.query(\"label == 1\")\n",
        "drop_size = len(custom_train_df_0) - len(custom_train_df_1)\n",
        "custom_train_df_0, _ = train_test_split(custom_train_df_0, test_size=drop_size, shuffle=True, random_state=SEED)\n",
        "print(len(custom_train_df_0))\n",
        "\n",
        "custom_train_df = pd.concat([custom_train_df_0, custom_train_df_1], axis=0)\n",
        "print(len(custom_train_df))"
      ]
    },
    {
      "cell_type": "code",
      "execution_count": null,
      "metadata": {
        "id": "AG2fQszTgim5"
      },
      "outputs": [],
      "source": [
        "train_df = pd.read_csv(train_path)\n",
        "test_df = pd.read_csv(test_path)\n",
        "compe_df = pd.read_csv(compe_path)\n",
        "\n",
        "train_df, valid_df = train_test_split(\n",
        "    train_df, test_size=0.2, shuffle=True, random_state=SEED)\n",
        "\n",
        "# train_df = pd.concat([train_df, test_df], axis=0)\n",
        "# train_df = pd.concat([train_df, custom_train_df], axis=0)\n",
        "\n",
        "train_text = train_df[\"text\"].values.astype('U')\n",
        "valid_text = valid_df[\"text\"].values.astype('U')\n",
        "test_text = test_df[\"text\"].values.astype('U')\n",
        "y = train_df[\"label\"].values.astype(\"int8\")\n",
        "valid_y = valid_df[\"label\"].values.astype(\"int8\")\n",
        "test_y = test_df[\"label\"].values.astype(\"int8\")\n",
        "compe_text = compe_df[\"text\"].values.astype('U')\n",
        "\n",
        "# model_name = \"nlptown/bert-base-multilingual-uncased-sentiment\"\n",
        "# model_name = \"daigo/bert-base-japanese-sentiment\"\n",
        "model_name = \"cl-tohoku/bert-base-japanese-whole-word-masking\"\n",
        "# model_name = \"ken11/albert-base-japanese-v1\""
      ]
    },
    {
      "cell_type": "code",
      "execution_count": null,
      "metadata": {
        "id": "Kx3l81f4ZazB"
      },
      "outputs": [],
      "source": [
        "MARK = []\n",
        "# MARK = [\"、\", \"。\", \"，\", \"．\", \"\\n\"]\n",
        "def clean_text(text):\n",
        "    replaced_text = text\n",
        "    for m in MARK:\n",
        "      replaced_text = replaced_text.replace(m, ' ')\n",
        "    # replaced_text = re.sub(r'[【】]', ' ', replaced_text)       # 【】の除去\n",
        "    # replaced_text = re.sub(r'[（）()]', ' ', replaced_text)     # （）の除去\n",
        "    # replaced_text = re.sub(r'[［］\\[\\]]', ' ', replaced_text)   # ［］の除去\n",
        "    replaced_text = re.sub(r'[@＠]\\w+', '', replaced_text)  # メンションの除去\n",
        "    replaced_text = re.sub(\n",
        "        r'https?:\\/\\/.*?[\\r\\n ]', '', replaced_text)  # URLの除去\n",
        "    replaced_text = re.sub(r'　', ' ', replaced_text)  # 全角空白の除去\n",
        "    return replaced_text\n",
        "\n",
        "def clean_url(html_text):\n",
        "    cleaned_text = re.sub(r'http\\S+', '', html_text)\n",
        "    return cleaned_text"
      ]
    },
    {
      "cell_type": "code",
      "execution_count": null,
      "metadata": {
        "id": "gMCChdK3ZVf5"
      },
      "outputs": [],
      "source": [
        "def normalize(text):\n",
        "    normalized_text = normalize_unicode(text)\n",
        "    normalized_text = normalize_number(normalized_text)\n",
        "    normalized_text = lower_text(normalized_text)\n",
        "    return normalized_text\n",
        "    \n",
        "def lower_text(text):\n",
        "    return text.lower()\n",
        "\n",
        "def normalize_unicode(text, form='NFKC'):\n",
        "    normalized_text = unicodedata.normalize(form, text)\n",
        "    return normalized_text\n",
        "\n",
        "def normalize_number(text):\n",
        "    replaced_text = re.sub(r'\\d+', '0', text)\n",
        "    return replaced_text\n",
        "    \n",
        "def lemmatize_term(term, pos=None):\n",
        "    if pos is None:\n",
        "        synsets = wordnet.synsets(term)\n",
        "        if not synsets:\n",
        "            return term\n",
        "        pos = synsets[0].pos()\n",
        "        if pos == wordnet.ADJ_SAT:\n",
        "            pos = wordnet.ADJ\n",
        "    return nltk.WordNetLemmatizer().lemmatize(term, pos=pos)"
      ]
    },
    {
      "cell_type": "code",
      "execution_count": null,
      "metadata": {
        "id": "XMj4DrD39KXF"
      },
      "outputs": [],
      "source": [
        "# 前処理\n",
        "def mark_remove(text: str):\n",
        "  text = clean_text(text)\n",
        "  # text = clean_url(text)\n",
        "  # text = normalize(text)\n",
        "  text = lower_text(text)\n",
        "  # text = normalize_unicode(text)\n",
        "  # text = \" \".join(lemmatize_term(e) for e in text.split())\n",
        "  \n",
        "  return text"
      ]
    },
    {
      "cell_type": "code",
      "execution_count": null,
      "metadata": {
        "colab": {
          "base_uri": "https://localhost:8080/"
        },
        "id": "-NxY0yjicBvN",
        "outputId": "33da08e2-0fc9-4708-b973-0357ecf96bf3"
      },
      "outputs": [
        {
          "name": "stdout",
          "output_type": "stream",
          "text": [
            "rt : ベンチの上にカゴ並べたら入ってた。 https://t.co/ww52aqeah0\n"
          ]
        }
      ],
      "source": [
        "print(mark_remove(train_text[3260]))"
      ]
    },
    {
      "cell_type": "code",
      "execution_count": null,
      "metadata": {
        "id": "V4oX_RStBAQ_"
      },
      "outputs": [],
      "source": [
        "v_mark_remove = np.vectorize(mark_remove)\n",
        "\n",
        "# train_text = v_mark_remove(train_text)\n",
        "# valid_text = v_mark_remove(valid_text)\n",
        "# test_text = v_mark_remove(test_text)\n",
        "# compe_text = v_mark_remove(compe_text)"
      ]
    },
    {
      "cell_type": "code",
      "execution_count": null,
      "metadata": {
        "id": "ISZnBa7kgnEo"
      },
      "outputs": [],
      "source": [
        "# Datasetの定義\n",
        "class CreateDataset(Dataset):\n",
        "    def __init__(self, X, y, tokenizer, max_len):\n",
        "        self.X = X\n",
        "        self.y = y\n",
        "        self.tokenizer = tokenizer\n",
        "        self.max_len = max_len\n",
        "\n",
        "    def __len__(self):  # len(Dataset)で返す値を指定\n",
        "        return len(self.y)\n",
        "\n",
        "    def __getitem__(self, index):  # Dataset[index]で返す値を指定\n",
        "        text = self.X[index]\n",
        "        inputs = self.tokenizer.encode_plus(\n",
        "            text,\n",
        "            add_special_tokens=True,\n",
        "            max_length=512,\n",
        "            pad_to_max_length=True,\n",
        "            # padding=True, \n",
        "            truncation=True,\n",
        "        )\n",
        "\n",
        "        ids = inputs['input_ids']\n",
        "        mask = inputs['attention_mask']\n",
        "\n",
        "        if self.max_len < sum(mask):\n",
        "          i = int(self.max_len / 2)\n",
        "          tmp = copy.copy(ids[:i])\n",
        "          tmp.extend(ids[sum(mask) - i:sum(mask)])\n",
        "          ids = tmp\n",
        "          tmp = copy.copy(mask[:i])\n",
        "          tmp.extend(mask[sum(mask) - i:sum(mask)])\n",
        "          mask = tmp\n",
        "        else:\n",
        "          ids = ids[:self.max_len]\n",
        "          mask = mask[:self.max_len]\n",
        "\n",
        "        y_tensor = torch.Tensor(\n",
        "            [1, 0]) if self.y[index] == 0 else torch.Tensor([0, 1])\n",
        "\n",
        "        return {\n",
        "            'ids': torch.LongTensor(ids),\n",
        "            'mask': torch.LongTensor(mask),\n",
        "            'labels': y_tensor\n",
        "        }"
      ]
    },
    {
      "cell_type": "code",
      "execution_count": null,
      "metadata": {
        "colab": {
          "base_uri": "https://localhost:8080/"
        },
        "id": "vNRZp025gsnp",
        "outputId": "7d738441-7938-41d2-95b9-7d0c3bfbc83a"
      },
      "outputs": [
        {
          "name": "stdout",
          "output_type": "stream",
          "text": [
            "ids: tensor([    2, 17232, 13817,  7124, 21804, 28589,   369,  5230,   266,  6985,\n",
            "            5,   109,     7,   103, 28796,  8228,  3318,  1577,    16,    10,\n",
            "            8, 21313, 28589, 16831,   822,   143, 20852,   465, 21573,  3374,\n",
            "         2187, 29650, 28511, 28521, 28805,   518,     3,     0,     0,     0,\n",
            "            0,     0,     0,     0,     0,     0,     0,     0,     0,     0,\n",
            "            0,     0,     0,     0,     0,     0,     0,     0,     0,     0,\n",
            "            0,     0,     0,     0,     0,     0,     0,     0,     0,     0,\n",
            "            0,     0,     0,     0,     0,     0,     0,     0,     0,     0,\n",
            "            0,     0,     0,     0,     0,     0,     0,     0,     0,     0,\n",
            "            0,     0,     0,     0,     0,     0,     0,     0,     0,     0,\n",
            "            0,     0,     0,     0,     0,     0,     0,     0,     0,     0,\n",
            "            0,     0,     0,     0,     0,     0,     0,     0,     0,     0,\n",
            "            0,     0,     0,     0,     0,     0,     0,     0])\n",
            "mask: tensor([1, 1, 1, 1, 1, 1, 1, 1, 1, 1, 1, 1, 1, 1, 1, 1, 1, 1, 1, 1, 1, 1, 1, 1,\n",
            "        1, 1, 1, 1, 1, 1, 1, 1, 1, 1, 1, 1, 1, 0, 0, 0, 0, 0, 0, 0, 0, 0, 0, 0,\n",
            "        0, 0, 0, 0, 0, 0, 0, 0, 0, 0, 0, 0, 0, 0, 0, 0, 0, 0, 0, 0, 0, 0, 0, 0,\n",
            "        0, 0, 0, 0, 0, 0, 0, 0, 0, 0, 0, 0, 0, 0, 0, 0, 0, 0, 0, 0, 0, 0, 0, 0,\n",
            "        0, 0, 0, 0, 0, 0, 0, 0, 0, 0, 0, 0, 0, 0, 0, 0, 0, 0, 0, 0, 0, 0, 0, 0,\n",
            "        0, 0, 0, 0, 0, 0, 0, 0])\n",
            "labels: tensor([1., 0.])\n"
          ]
        },
        {
          "name": "stderr",
          "output_type": "stream",
          "text": [
            "/usr/local/lib/python3.7/dist-packages/transformers/tokenization_utils_base.py:2307: FutureWarning: The `pad_to_max_length` argument is deprecated and will be removed in a future version, use `padding=True` or `padding='longest'` to pad to the longest sequence in the batch, or use `padding='max_length'` to pad to a max length. In this case, you can give a specific length with `max_length` (e.g. `max_length=45`) or leave max_length to None to pad to the maximal input size of the model (e.g. 512 for Bert).\n",
            "  FutureWarning,\n"
          ]
        }
      ],
      "source": [
        "# 最大系列長の指定\n",
        "MAX_LEN = 128\n",
        "TEST_MAX_LEN = MAX_LEN\n",
        "\n",
        "# tokenizerの取得\n",
        "tokenizer = BertJapaneseTokenizer.from_pretrained(model_name)\n",
        "# tokenizer = AlbertTokenizerFast.from_pretrained(model_name)\n",
        "\n",
        "# Datasetの作成\n",
        "dataset_train = CreateDataset(\n",
        "    train_text, y, tokenizer, MAX_LEN)\n",
        "dataset_valid = CreateDataset(\n",
        "    valid_text, valid_y, tokenizer, MAX_LEN)\n",
        "dataset_test = CreateDataset(\n",
        "    test_text, test_y, tokenizer, TEST_MAX_LEN)\n",
        "dataset_compe = CreateDataset(\n",
        "    compe_text, np.zeros(len(compe_text)), tokenizer, TEST_MAX_LEN\n",
        ")\n",
        "\n",
        "for var in dataset_train[3260]:\n",
        "    print(f'{var}: {dataset_train[3260][var]}')"
      ]
    },
    {
      "cell_type": "code",
      "execution_count": null,
      "metadata": {
        "colab": {
          "base_uri": "https://localhost:8080/"
        },
        "id": "8o7bECn_rjfM",
        "outputId": "12fe1a18-a1ad-4f7b-f6c2-f31b29bbadca"
      },
      "outputs": [
        {
          "name": "stdout",
          "output_type": "stream",
          "text": [
            "最大単語数:  150\n"
          ]
        }
      ],
      "source": [
        "# 最大単語数の確認\n",
        "max_len = []\n",
        "# 1文づつ処理\n",
        "for i, sent in enumerate(compe_text):\n",
        "    # Tokenizeで分割\n",
        "    token_words = tokenizer.tokenize(sent)\n",
        "    # 文章数を取得してリストへ格納\n",
        "    max_len.append(len(token_words))\n",
        "    if len(token_words) == 136:\n",
        "      print(i)\n",
        "# 最大の値を確認\n",
        "print('最大単語数: ', max(max_len))"
      ]
    },
    {
      "cell_type": "code",
      "execution_count": null,
      "metadata": {
        "id": "HK8Oltr1cN6q"
      },
      "outputs": [],
      "source": [
        "def torch_fix_seed(seed=0):\n",
        "    # Python random\n",
        "    random.seed(seed)\n",
        "    # Numpy\n",
        "    np.random.seed(seed)\n",
        "    # Pytorch\n",
        "    torch.manual_seed(seed)\n",
        "    torch.cuda.manual_seed(seed)\n",
        "    torch.backends.cudnn.deterministic = True\n",
        "    torch.use_deterministic_algorithms = True"
      ]
    },
    {
      "cell_type": "code",
      "execution_count": null,
      "metadata": {
        "id": "SIY0cZt2Ah8t"
      },
      "outputs": [],
      "source": [
        "class Mixout(InplaceFunction):\n",
        "    @staticmethod\n",
        "    def _make_noise(input):\n",
        "        return input.new().resize_as_(input)\n",
        "\n",
        "    @classmethod\n",
        "    def forward(cls, ctx, input, target=None, p=0.0, training=False, inplace=False):\n",
        "        if p < 0 or p > 1:\n",
        "            raise ValueError(\"A mix probability of mixout has to be between 0 and 1,\" \" but got {}\".format(p))\n",
        "        if target is not None and input.size() != target.size():\n",
        "            raise ValueError(\n",
        "                \"A target tensor size must match with a input tensor size {},\"\n",
        "                \" but got {}\".format(input.size(), target.size())\n",
        "            )\n",
        "        ctx.p = p\n",
        "        ctx.training = training\n",
        "\n",
        "        if ctx.p == 0 or not ctx.training:\n",
        "            return input\n",
        "\n",
        "        if target is None:\n",
        "            target = cls._make_noise(input)\n",
        "            target.fill_(0)\n",
        "        target = target.to(input.device)\n",
        "\n",
        "        if inplace:\n",
        "            ctx.mark_dirty(input)\n",
        "            output = input\n",
        "        else:\n",
        "            output = input.clone()\n",
        "\n",
        "        ctx.noise = cls._make_noise(input)\n",
        "        if len(ctx.noise.size()) == 1:\n",
        "            ctx.noise.bernoulli_(1 - ctx.p)\n",
        "        else:\n",
        "            ctx.noise[0].bernoulli_(1 - ctx.p)\n",
        "            ctx.noise = ctx.noise[0].repeat(input.size()[0], 1)\n",
        "        ctx.noise.expand_as(input)\n",
        "\n",
        "        if ctx.p == 1:\n",
        "            output = target\n",
        "        else:\n",
        "            output = ((1 - ctx.noise) * target + ctx.noise * output - ctx.p * target) / (1 - ctx.p)\n",
        "        return output\n",
        "\n",
        "    @staticmethod\n",
        "    def backward(ctx, grad_output):\n",
        "        if ctx.p > 0 and ctx.training:\n",
        "            return grad_output * ctx.noise, None, None, None, None\n",
        "        else:\n",
        "            return grad_output, None, None, None, None"
      ]
    },
    {
      "cell_type": "code",
      "execution_count": null,
      "metadata": {
        "id": "R244UXceAwuK"
      },
      "outputs": [],
      "source": [
        "def mixout(input, target=None, p=0.0, training=False, inplace=False):\n",
        "    return Mixout.apply(input, target, p, training, inplace)"
      ]
    },
    {
      "cell_type": "code",
      "execution_count": null,
      "metadata": {
        "id": "ZgzqLWDEKT0-"
      },
      "outputs": [],
      "source": [
        "class MixLinear(torch.nn.Module):\n",
        "    __constants__ = [\"bias\", \"in_features\", \"out_features\"]\n",
        "    def __init__(self, in_features, out_features, bias=True, target=None, p=0.0):\n",
        "        super(MixLinear, self).__init__()\n",
        "        self.in_features = in_features\n",
        "        self.out_features = out_features\n",
        "        self.weight = Parameter(torch.Tensor(out_features, in_features))\n",
        "        if bias:\n",
        "            self.bias = Parameter(torch.Tensor(out_features))\n",
        "        else:\n",
        "            self.register_parameter(\"bias\", None)\n",
        "        self.reset_parameters()\n",
        "        self.target = target\n",
        "        self.p = p\n",
        "\n",
        "    def reset_parameters(self):\n",
        "        init.kaiming_uniform_(self.weight, a=math.sqrt(5))\n",
        "        if self.bias is not None:\n",
        "            fan_in, _ = init._calculate_fan_in_and_fan_out(self.weight)\n",
        "            bound = 1 / math.sqrt(fan_in)\n",
        "            init.uniform_(self.bias, -bound, bound)\n",
        "\n",
        "    def forward(self, input):\n",
        "        return F.linear(input, mixout(self.weight, self.target, self.p, self.training), self.bias)\n",
        "\n",
        "    def extra_repr(self):\n",
        "        type = \"drop\" if self.target is None else \"mix\"\n",
        "        return \"{}={}, in_features={}, out_features={}, bias={}\".format(\n",
        "            type + \"out\", self.p, self.in_features, self.out_features, self.bias is not None\n",
        "        )"
      ]
    },
    {
      "cell_type": "code",
      "execution_count": null,
      "metadata": {
        "id": "rMerhkSKKUkp"
      },
      "outputs": [],
      "source": [
        "def replace_mixout(model, mixout):\n",
        "    for sup_module in model.modules():\n",
        "        for name, module in sup_module.named_children():\n",
        "            if isinstance(module, torch.nn.Dropout):\n",
        "                module.p = 0.0\n",
        "            if isinstance(module, torch.nn.Linear):\n",
        "                target_state_dict = module.state_dict()\n",
        "                bias = True if module.bias is not None else False\n",
        "                new_module = MixLinear(\n",
        "                    module.in_features, module.out_features, bias, target_state_dict[\"weight\"], mixout\n",
        "                )\n",
        "                new_module.load_state_dict(target_state_dict)\n",
        "                setattr(sup_module, name, new_module)\n",
        "    return model"
      ]
    },
    {
      "cell_type": "code",
      "execution_count": null,
      "metadata": {
        "id": "aDzTsMLzO1H6"
      },
      "outputs": [],
      "source": [
        "def get_optimizer_grouped_parameters(model, lr, lr_decay):\n",
        "    WEIGHT_DECAY = 0.0\n",
        "    model_type = 'bert'\n",
        "    no_decay = [\"bias\", \"LayerNorm.weight\"]\n",
        "    optimizer_grouped_parameters = [\n",
        "        {\n",
        "            \"params\": [p for n, p in model.named_parameters()\n",
        "                       if 'lstm' in n\n",
        "                       or 'cnn' in n\n",
        "                       or 'regressor' in n],\n",
        "            \"weight_decay\": 0.0,\n",
        "            \"lr\": 2e-5,\n",
        "        },\n",
        "    ]\n",
        "    num_layers = model.config.num_hidden_layers\n",
        "    layers = [getattr(model, model_type).embeddings] + list(getattr(model, model_type).encoder.layer)\n",
        "    layers.reverse()\n",
        "    lr = lr\n",
        "    for layer in layers:\n",
        "        lr *= lr_decay\n",
        "        optimizer_grouped_parameters += [\n",
        "            {\n",
        "                \"params\": [p for n, p in layer.named_parameters() if not any(nd in n for nd in no_decay)],\n",
        "                \"weight_decay\": WEIGHT_DECAY,\n",
        "                \"lr\": lr,\n",
        "            },\n",
        "            {\n",
        "                \"params\": [p for n, p in layer.named_parameters() if any(nd in n for nd in no_decay)],\n",
        "                \"weight_decay\": 0.0,\n",
        "                \"lr\": lr,\n",
        "            },\n",
        "        ]\n",
        "    return optimizer_grouped_parameters"
      ]
    },
    {
      "cell_type": "code",
      "execution_count": null,
      "metadata": {
        "id": "pT4lQfIjgusY"
      },
      "outputs": [],
      "source": [
        "# BERT分類モデルの定義\n",
        "class BERTClass(torch.nn.Module):\n",
        "    __constants__ = [\"bias\", \"in_features\", \"out_features\"]\n",
        "    def __init__(self, pretrained, drop_rate, output_size):\n",
        "        super().__init__()\n",
        "        self.output_size = output_size\n",
        "        self.config = BertConfig.from_pretrained(pretrained)\n",
        "        # self.config = BertConfig(classifier_dropout=drop_rate)\n",
        "        self.bert = BertModel.from_pretrained(pretrained)\n",
        "        self.drop = torch.nn.Dropout(drop_rate)\n",
        "        # self.cnn1 = torch.nn.Conv1d(self.config.hidden_size, 256, kernel_size=2)\n",
        "        # self.cnn2 = torch.nn.Conv1d(256,  self.output_size , kernel_size=2,  padding=1)\n",
        "        self.fc = torch.nn.Linear(self.config.hidden_size, output_size)  # BERTの出力に合わせて768次元を指定\n",
        "\n",
        "    def forward(self, ids, mask, batch_size):\n",
        "        _, out = self.bert(ids, attention_mask=mask, return_dict=False)\n",
        "        out = self.fc(self.drop(out))\n",
        "        # out = self.fc(out)\n",
        "\n",
        "        # last_hidden_state = out['last_hidden_state'].permute(0, 2, 1)\n",
        "        # cnn_embeddings = F.relu(self.cnn1(last_hidden_state))\n",
        "        # out = self.cnn2(cnn_embeddings)\n",
        "        # out, _ = torch.max(out, 2)\n",
        "        return out"
      ]
    },
    {
      "cell_type": "code",
      "execution_count": null,
      "metadata": {
        "id": "9ID46VTRgxgo"
      },
      "outputs": [],
      "source": [
        "def calculate_loss_and_accuracy(model, loader, device, batch_size, criterion=None):\n",
        "    \"\"\" 損失・正解率を計算\"\"\"\n",
        "    model.eval()\n",
        "    loss = 0.0\n",
        "    total = 0\n",
        "    correct = 0\n",
        "\n",
        "    with torch.no_grad():\n",
        "        for data in loader:\n",
        "            # デバイスの指定\n",
        "            ids = data['ids'].to(device)\n",
        "            mask = data['mask'].to(device)\n",
        "            labels = data['labels'].to(device)\n",
        "\n",
        "            # 順伝播\n",
        "            outputs = model(ids, mask, batch_size)\n",
        "\n",
        "            # 損失計算\n",
        "            if criterion != None:\n",
        "                loss += criterion(outputs, labels).item()\n",
        "\n",
        "            # 正解率計算\n",
        "            # バッチサイズの長さの予測ラベル配列\n",
        "            pred = torch.argmax(outputs, dim=-1).cpu().numpy()\n",
        "            # バッチサイズの長さの正解ラベル配列\n",
        "            labels = torch.argmax(labels, dim=-1).cpu().numpy()\n",
        "            total += len(labels)\n",
        "            correct += (pred == labels).sum().item()\n",
        "\n",
        "    return loss / len(loader), correct / total"
      ]
    },
    {
      "cell_type": "code",
      "execution_count": null,
      "metadata": {
        "id": "1k7ULY3qhOtC"
      },
      "outputs": [],
      "source": [
        "from sklearn.utils import shuffle\n",
        "def train_model(dataset_train, dataset_valid, batch_size, model, criterion, optimizer, num_epochs, device=None, n_splits=3):\n",
        "    \"\"\"モデルの学習を実行し、損失・正解率のログを返す\"\"\"\n",
        "    # デバイスの指定\n",
        "    model.to(device)\n",
        "\n",
        "    # dataloaderの作成\n",
        "    dataloader_train = DataLoader(\n",
        "        dataset_train, batch_size=batch_size, shuffle=True)\n",
        "    dataloader_valid = DataLoader(\n",
        "        dataset_valid, batch_size=len(dataset_valid), shuffle=False)\n",
        "    \n",
        "    # scaler = GradScaler()\n",
        "    # ITERS_TO_ACCUMULATE = 2\n",
        "\n",
        "    # 学習\n",
        "    log_train = []\n",
        "    log_valid = []\n",
        "\n",
        "    for epoch in range(num_epochs):\n",
        "        # 開始時刻の記録\n",
        "        s_time = time.time()\n",
        "\n",
        "        # 訓練モードに設定\n",
        "        model.train()\n",
        "        for i, data in enumerate(dataloader_train):\n",
        "            # デバイスの指定\n",
        "            ids = data['ids'].to(device)\n",
        "            mask = data['mask'].to(device)\n",
        "            labels = data['labels'].to(device)\n",
        "\n",
        "            # 勾配をゼロで初期化\n",
        "            optimizer.zero_grad()\n",
        "\n",
        "            # with autocast():\n",
        "              # 順伝播 + 誤差逆伝播 + 重み更新\n",
        "            outputs = model(ids, mask, batch_size)\n",
        "            loss = criterion(outputs, labels)\n",
        "              # loss = loss / ITERS_TO_ACCUMULATE\n",
        "            \n",
        "            loss.backward()\n",
        "            # scaler.scale(loss).backward() \n",
        "\n",
        "            del loss\n",
        "            \n",
        "            # if (i + 1) % ITERS_TO_ACCUMULATE == 0:\n",
        "            optimizer.step()\n",
        "            # scaler.step(optimizer)\n",
        "            # scaler.update() \n",
        "              # optimizer.zero_grad()\n",
        "\n",
        "        # 損失と正解率の算出\n",
        "        loss_train, acc_train = calculate_loss_and_accuracy(\n",
        "            model, dataloader_train, device, batch_size, criterion=criterion)\n",
        "        loss_valid, acc_valid = calculate_loss_and_accuracy(\n",
        "            model, dataloader_valid, device, len(dataset_valid), criterion=criterion)\n",
        "        log_train.append([loss_train, acc_train])\n",
        "        log_valid.append([loss_valid, acc_valid])\n",
        "\n",
        "        # チェックポイントの保存\n",
        "        torch.save({'epoch': epoch, 'model_state_dict': model.state_dict(\n",
        "        ), 'optimizer_state_dict': optimizer.state_dict()}, f'checkpoint{epoch + 1}.pt')\n",
        "\n",
        "        # 終了時刻の記録\n",
        "        e_time = time.time()\n",
        "\n",
        "        # ログを出力\n",
        "        print(f'epoch: {epoch + 1}, loss_train: {loss_train:.4f}, accuracy_train: {acc_train:.4f}, loss_valid: {loss_valid:.4f}, accuracy_valid: {acc_valid:.4f}, {(e_time - s_time):.4f}sec')\n",
        "\n",
        "    return {'train': log_train, 'valid': log_valid}"
      ]
    },
    {
      "cell_type": "code",
      "execution_count": null,
      "metadata": {
        "colab": {
          "background_save": true,
          "base_uri": "https://localhost:8080/"
        },
        "id": "qwrmnOY3gzyI",
        "outputId": "383e2c58-10b3-4f34-8514-6f7e7cb87089"
      },
      "outputs": [
        {
          "name": "stderr",
          "output_type": "stream",
          "text": [
            "Some weights of the model checkpoint at cl-tohoku/bert-base-japanese-whole-word-masking were not used when initializing BertModel: ['cls.predictions.decoder.weight', 'cls.predictions.transform.dense.bias', 'cls.seq_relationship.bias', 'cls.predictions.transform.LayerNorm.weight', 'cls.predictions.transform.LayerNorm.bias', 'cls.predictions.bias', 'cls.seq_relationship.weight', 'cls.predictions.transform.dense.weight']\n",
            "- This IS expected if you are initializing BertModel from the checkpoint of a model trained on another task or with another architecture (e.g. initializing a BertForSequenceClassification model from a BertForPreTraining model).\n",
            "- This IS NOT expected if you are initializing BertModel from the checkpoint of a model that you expect to be exactly identical (initializing a BertForSequenceClassification model from a BertForSequenceClassification model).\n",
            "/usr/local/lib/python3.7/dist-packages/transformers/tokenization_utils_base.py:2307: FutureWarning: The `pad_to_max_length` argument is deprecated and will be removed in a future version, use `padding=True` or `padding='longest'` to pad to the longest sequence in the batch, or use `padding='max_length'` to pad to a max length. In this case, you can give a specific length with `max_length` (e.g. `max_length=45`) or leave max_length to None to pad to the maximal input size of the model (e.g. 512 for Bert).\n",
            "  FutureWarning,\n"
          ]
        },
        {
          "name": "stdout",
          "output_type": "stream",
          "text": [
            "epoch: 1, loss_train: 0.1528, accuracy_train: 0.9447, loss_valid: 0.2131, accuracy_valid: 0.9190, 275.3649sec\n",
            "epoch: 2, loss_train: 0.0830, accuracy_train: 0.9726, loss_valid: 0.2136, accuracy_valid: 0.9265, 274.8550sec\n",
            "epoch: 3, loss_train: 0.0756, accuracy_train: 0.9720, loss_valid: 0.2457, accuracy_valid: 0.9020, 274.8789sec\n",
            "epoch: 4, loss_train: 0.0162, accuracy_train: 0.9956, loss_valid: 0.2537, accuracy_valid: 0.9205, 274.6942sec\n"
          ]
        }
      ],
      "source": [
        "torch.cuda.empty_cache()\n",
        "torch_fix_seed(SEED)\n",
        "# パラメータの設定\n",
        "DROP_RATE = 0.7\n",
        "OUTPUT_SIZE = 2\n",
        "BATCH_SIZE = 8\n",
        "NUM_EPOCHS = 4\n",
        "LEARNING_RATE = 2e-5\n",
        "MIX_OUT = 0.7\n",
        "\n",
        "# モデルの定義\n",
        "model = BERTClass(model_name, DROP_RATE, OUTPUT_SIZE)\n",
        "# model = replace_mixout(model, MIX_OUT)\n",
        "\n",
        "# 損失関数の定義\n",
        "criterion = torch.nn.BCEWithLogitsLoss()\n",
        "\n",
        "# オプティマイザの定義\n",
        "parameters = model.parameters()\n",
        "# optimizer = torch.optim.AdamW(params=parameters, lr=LEARNING_RATE)\n",
        "# parameters = get_optimizer_grouped_parameters(model, lr=LEARNING_RATE, lr_decay=0.95)\n",
        "optimizer = torch_optimizer.RAdam(parameters, lr=LEARNING_RATE)\n",
        "\n",
        "# デバイスの指定\n",
        "device = 'cuda' if cuda.is_available() else 'cpu'\n",
        "\n",
        "# モデルの学習\n",
        "log = train_model(dataset_train, dataset_valid, BATCH_SIZE,\n",
        "                  model, criterion, optimizer, NUM_EPOCHS, device=device)"
      ]
    },
    {
      "cell_type": "code",
      "execution_count": null,
      "metadata": {
        "colab": {
          "background_save": true
        },
        "id": "X4U9dX1aefX3",
        "outputId": "5111614b-642c-4013-b2c3-a9eba0893369"
      },
      "outputs": [
        {
          "data": {
            "image/png": "[encoded data removed]",
            "text/plain": [
              "<Figure size 1080x360 with 2 Axes>"
            ]
          },
          "metadata": {},
          "output_type": "display_data"
        }
      ],
      "source": [
        "# ログの可視化\n",
        "x_axis = [x for x in range(1, len(log['train']) + 1)]\n",
        "fig, ax = plt.subplots(1, 2, figsize=(15, 5))\n",
        "ax[0].plot(x_axis, np.array(log['train']).T[0], label='train')\n",
        "ax[0].plot(x_axis, np.array(log['valid']).T[0], label='valid')\n",
        "ax[0].set_xlabel('epoch')\n",
        "ax[0].set_ylabel('loss')\n",
        "ax[0].legend()\n",
        "ax[1].plot(x_axis, np.array(log['train']).T[1], label='train')\n",
        "ax[1].plot(x_axis, np.array(log['valid']).T[1], label='valid')\n",
        "ax[1].set_xlabel('epoch')\n",
        "ax[1].set_ylabel('accuracy')\n",
        "ax[1].legend()\n",
        "plt.show()"
      ]
    },
    {
      "cell_type": "code",
      "execution_count": null,
      "metadata": {
        "colab": {
          "background_save": true
        },
        "id": "UCoQPF8llOe1",
        "outputId": "f01787e8-bd9f-44b1-d380-9dd09c601f6f"
      },
      "outputs": [
        {
          "name": "stderr",
          "output_type": "stream",
          "text": [
            "/usr/local/lib/python3.7/dist-packages/transformers/tokenization_utils_base.py:2307: FutureWarning: The `pad_to_max_length` argument is deprecated and will be removed in a future version, use `padding=True` or `padding='longest'` to pad to the longest sequence in the batch, or use `padding='max_length'` to pad to a max length. In this case, you can give a specific length with `max_length` (e.g. `max_length=45`) or leave max_length to None to pad to the maximal input size of the model (e.g. 512 for Bert).\n",
            "  FutureWarning,\n"
          ]
        },
        {
          "name": "stdout",
          "output_type": "stream",
          "text": [
            "正解率（学習データ）：0.996\n",
            "正解率（検証データ）：0.920\n",
            "正解率（評価データ）：0.925\n"
          ]
        }
      ],
      "source": [
        "# 正解率の算出\n",
        "dataloader_train = DataLoader(dataset_train, batch_size=1, shuffle=False)\n",
        "dataloader_valid = DataLoader(dataset_valid, batch_size=1, shuffle=False)\n",
        "dataloader_test = DataLoader(dataset_test, batch_size=1, shuffle=False)\n",
        "\n",
        "print(\n",
        "    f'正解率（学習データ）：{calculate_loss_and_accuracy(model, dataloader_train, device, 1)[1]:.3f}')\n",
        "print(\n",
        "    f'正解率（検証データ）：{calculate_loss_and_accuracy(model, dataloader_valid, device, 1)[1]:.3f}')\n",
        "print(\n",
        "    f'正解率（評価データ）：{calculate_loss_and_accuracy(model, dataloader_test, device, 1)[1]:.3f}')"
      ]
    },
    {
      "cell_type": "code",
      "execution_count": null,
      "metadata": {
        "id": "9ELZelkUefyM"
      },
      "outputs": [],
      "source": [
        "dataloader_compe = DataLoader(dataset_compe, batch_size=1, shuffle=False)\n",
        "\n",
        "pred = []\n",
        "with torch.no_grad():\n",
        "  for data in dataloader_compe:\n",
        "    # デバイスの指定\n",
        "    ids = data['ids'].to(device)\n",
        "    mask = data['mask'].to(device)\n",
        "\n",
        "    # 順伝播\n",
        "    outputs = model(ids, mask, 1)\n",
        "\n",
        "    # 正解率計算\n",
        "    # バッチサイズの長さの予測ラベル配列\n",
        "    pred_label = torch.argmax(outputs, dim=-1).cpu().numpy()\n",
        "    pred.append(pred_label[0])\n",
        "\n",
        "  csv_data = pd.DataFrame(data=pred, columns=[\"label\"])\n",
        "  csv_data.reset_index(inplace=True)\n",
        "  csv_data = csv_data.rename(columns={'index': 'ID'})\n",
        "  # submission.csvを最大2つまで馬場宛に提出してください．良い方の結果を最終スコアとします．\n",
        "  csv_data.to_csv(submission_path, index=False)"
      ]
    }
  ],
  "metadata": {
    "accelerator": "GPU",
    "colab": {
      "collapsed_sections": [],
      "name": "compe.ipynb",
      "provenance": [],
      "include_colab_link": true
    },
    "gpuClass": "standard",
    "kernelspec": {
      "display_name": "Python 3",
      "name": "python3"
    },
    "language_info": {
      "name": "python"
    }
  },
  "nbformat": 4,
  "nbformat_minor": 0
}